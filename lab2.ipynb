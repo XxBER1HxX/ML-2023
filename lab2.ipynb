{
 "cells": [
  {
   "cell_type": "markdown",
   "id": "f4dcabe2",
   "metadata": {},
   "source": [
    "# Завдання №1 "
   ]
  },
  {
   "cell_type": "markdown",
   "id": "8bc31f3a",
   "metadata": {},
   "source": [
    "## Завдання 1 \" Конструкції Python\"\n"
   ]
  },
  {
   "cell_type": "code",
   "execution_count": 2,
   "id": "9d544d43",
   "metadata": {},
   "outputs": [
    {
     "name": "stdout",
     "output_type": "stream",
     "text": [
      "Тип змінної x: <class 'int'>\n",
      "Тип змінної y: <class 'float'>\n",
      "Тип змінної s: <class 'str'>\n",
      "Тип змінної a: <class 'list'>\n",
      "Тип змінної b: <class 'bool'>\n",
      "Тип змінної t: <class 'tuple'>\n"
     ]
    }
   ],
   "source": [
    "x = 22\n",
    "y = 6.88\n",
    "s = \"Ігор\"\n",
    "a = [x, y, s]\n",
    "b = True\n",
    "t = (y, \"Студент\")\n",
    "\n",
    "print(\"Тип змінної x:\", type(x))\n",
    "print(\"Тип змінної y:\", type(y))\n",
    "print(\"Тип змінної s:\", type(s))\n",
    "print(\"Тип змінної a:\", type(a))\n",
    "print(\"Тип змінної b:\", type(b))\n",
    "print(\"Тип змінної t:\", type(t))"
   ]
  },
  {
   "cell_type": "code",
   "execution_count": 4,
   "id": "b273600c",
   "metadata": {},
   "outputs": [
    {
     "name": "stdout",
     "output_type": "stream",
     "text": [
      "28.88\n",
      "15.120000000000001\n",
      "3.197674418604651\n",
      "1.3600000000000003\n",
      "151.35999999999999\n",
      "3.0\n",
      "1721345482.2757888\n"
     ]
    }
   ],
   "source": [
    "print(x+y)\n",
    "print(x-y)\n",
    "print(x/y)\n",
    "print(x%y)\n",
    "print(x*y)\n",
    "print(x//y)\n",
    "print(x**y)"
   ]
  },
  {
   "cell_type": "code",
   "execution_count": 5,
   "id": "f3346388",
   "metadata": {},
   "outputs": [
    {
     "name": "stdout",
     "output_type": "stream",
     "text": [
      "False\n",
      "True\n",
      "True\n",
      "False\n",
      "False\n",
      "True\n"
     ]
    }
   ],
   "source": [
    "print(x==y)\n",
    "print(x!=y)\n",
    "print(x>y)\n",
    "print(x<y)\n",
    "print(x<=y)\n",
    "print(x>=y)"
   ]
  },
  {
   "cell_type": "code",
   "execution_count": 7,
   "id": "606bb2d2",
   "metadata": {},
   "outputs": [
    {
     "name": "stdout",
     "output_type": "stream",
     "text": [
      "22\n",
      "(6.88, 'Студент')\n",
      "22\n",
      "22.0\n",
      "6.88\n"
     ]
    }
   ],
   "source": [
    "print(str(x))\n",
    "print(str(t))\n",
    "print(int(x))\n",
    "#print(int(s)) неможливо перетворити str в int \n",
    "print(float(x))\n",
    "print(float(y))"
   ]
  },
  {
   "cell_type": "markdown",
   "id": "272a14a9",
   "metadata": {},
   "source": [
    "## Завдання 3 \"Введення/вивід з консолі\""
   ]
  },
  {
   "cell_type": "code",
   "execution_count": 3,
   "id": "ec2ebce3",
   "metadata": {},
   "outputs": [
    {
     "name": "stdout",
     "output_type": "stream",
     "text": [
      "2.71\n"
     ]
    }
   ],
   "source": [
    "e = float(input())\n"
   ]
  },
  {
   "cell_type": "code",
   "execution_count": 4,
   "id": "a6dc40f8",
   "metadata": {},
   "outputs": [
    {
     "name": "stdout",
     "output_type": "stream",
     "text": [
      "146.1660310351\n"
     ]
    }
   ],
   "source": [
    "print(e**5)"
   ]
  },
  {
   "cell_type": "code",
   "execution_count": null,
   "id": "4867ab61",
   "metadata": {},
   "outputs": [],
   "source": [
    "name = \"Ігор\"\n",
    "surname = \"Бердник\"\n",
    "print (name, surname)\n",
    "print(\"1+1\", 2, sep=\" -> \")\n"
   ]
  },
  {
   "cell_type": "markdown",
   "id": "94b22648",
   "metadata": {},
   "source": [
    "У функції print() символ , розділяє аргументи функції, які відображаються в окремих рядках, а аргумент sep визначає роздільник між ними."
   ]
  },
  {
   "cell_type": "code",
   "execution_count": 10,
   "id": "f179ccfd",
   "metadata": {},
   "outputs": [
    {
     "name": "stdout",
     "output_type": "stream",
     "text": [
      "Ігор Бердник - це студент\n",
      "Результат буде = 12.4\n",
      "Ігор - True хлопець!\n",
      "Бердник Ігор\n"
     ]
    }
   ],
   "source": [
    "print(\"{} {} - це студент\".format(name, surname))\n",
    "print(\"Результат буде = {}\".format(42 / 5 + 4))\n",
    "b = True\n",
    "print(\"{} - {} хлопець!\".format(name, b))\n",
    "print(\"{} {}\".format(surname, name))"
   ]
  },
  {
   "cell_type": "markdown",
   "id": "8e79c84c",
   "metadata": {},
   "source": [
    "## Завдання 4 \"Керування обчисленнями\"\n"
   ]
  },
  {
   "cell_type": "code",
   "execution_count": 2,
   "id": "79d1dbab",
   "metadata": {},
   "outputs": [
    {
     "name": "stdout",
     "output_type": "stream",
     "text": [
      "Введи x: 31.5\n",
      "31.5\n",
      "992.25\n",
      "31.5\n"
     ]
    }
   ],
   "source": [
    "x = float(input(\"Введи x: \"))\n",
    "\n",
    "# ----- 1 ----------\n",
    "if x > 5:\n",
    "    print (x)\n",
    "    \n",
    "# ----- 2 ----------    \n",
    "if -5 < x < 5 :\n",
    "    print (x)\n",
    "else:\n",
    "    print (x ** 2)\n",
    "    \n",
    "# ----- 3 ----------\n",
    "if x > -5:\n",
    "    print (x)\n",
    "elif -5 < x < 5:\n",
    "    print (x ** 2)\n",
    "elif x > 5:\n",
    "    print (x ** (1/2))"
   ]
  },
  {
   "cell_type": "markdown",
   "id": "74983d60",
   "metadata": {},
   "source": [
    "x = -20 Спрацював лише другий if з умовою else\n",
    "\n",
    "x = 31.5 Спрацювали всі if, а саме: 1-if, 2-if друга умова, 3-if перша умова\n",
    "\n",
    "x = 4 Спрацювали 2 if перша умова та 3 if перша умова"
   ]
  },
  {
   "cell_type": "code",
   "execution_count": 7,
   "id": "c6be1173",
   "metadata": {},
   "outputs": [
    {
     "name": "stdout",
     "output_type": "stream",
     "text": [
      "Твій вік 99\n",
      "Вік живи, вік учись, ти студент\n"
     ]
    }
   ],
   "source": [
    "age = int(input(\"Твій вік \"))\n",
    "if 0 <= age <=6:\n",
    "    print('малятко')\n",
    "elif 7<= age <=17:\n",
    "    print('школяр')\n",
    "else:\n",
    "    print('Вік живи, вік учись, ти студент')\n"
   ]
  },
  {
   "cell_type": "code",
   "execution_count": 6,
   "id": "7556a851",
   "metadata": {},
   "outputs": [
    {
     "name": "stdout",
     "output_type": "stream",
     "text": [
      "-1\n",
      "-3\n",
      "-5\n",
      "-7\n",
      "-9\n"
     ]
    }
   ],
   "source": [
    "for i in range(10):\n",
    "    if i % 2 != 0:\n",
    "        print (-i)\n",
    "    else:\n",
    "        pass"
   ]
  },
  {
   "cell_type": "markdown",
   "id": "adb0a28e",
   "metadata": {},
   "source": [
    "Даний код знаходиться всередині циклу for, який виконується 10 разів, кожен раз створюється змінна і. Потім перевіряєтсья умова: якшо число не парне - прінтується це число з мінусом."
   ]
  },
  {
   "cell_type": "code",
   "execution_count": 9,
   "id": "2ded6b3d",
   "metadata": {},
   "outputs": [
    {
     "name": "stdout",
     "output_type": "stream",
     "text": [
      "1665\n"
     ]
    }
   ],
   "source": [
    "sum = 0\n",
    "for i in range(10, 101):\n",
    "    if i % 3 == 0:\n",
    "        sum += i\n",
    "print(sum)"
   ]
  },
  {
   "cell_type": "code",
   "execution_count": 10,
   "id": "7b51aba7",
   "metadata": {},
   "outputs": [
    {
     "name": "stdout",
     "output_type": "stream",
     "text": [
      "тисни тут: 5\n",
      "було введено\n",
      "тисни тут: 0\n"
     ]
    }
   ],
   "source": [
    "while(input(\"тисни тут: \") != '0'):\n",
    "    print (\"було введено\")"
   ]
  },
  {
   "cell_type": "markdown",
   "id": "4ee3659b",
   "metadata": {},
   "source": [
    "Цей код запускає нескінченний цикл, доки користувач не введе '0'"
   ]
  },
  {
   "cell_type": "code",
   "execution_count": 11,
   "id": "57d50c06",
   "metadata": {},
   "outputs": [
    {
     "name": "stdout",
     "output_type": "stream",
     "text": [
      "1665\n"
     ]
    }
   ],
   "source": [
    "i = 10\n",
    "total = 0\n",
    "while i <= 100:\n",
    "    if i % 3 == 0:\n",
    "        total += i\n",
    "    i += 1\n",
    "print(total)"
   ]
  },
  {
   "cell_type": "markdown",
   "id": "5988c9cb",
   "metadata": {},
   "source": [
    "# Завдання №2\n"
   ]
  },
  {
   "cell_type": "markdown",
   "id": "ec9c2a02",
   "metadata": {},
   "source": [
    "## Завдання 1 \"Операції над списками\"\n",
    " "
   ]
  },
  {
   "cell_type": "code",
   "execution_count": 1,
   "id": "22b3c58f",
   "metadata": {},
   "outputs": [
    {
     "name": "stdout",
     "output_type": "stream",
     "text": [
      "2222403196032\n"
     ]
    }
   ],
   "source": [
    "i_am = []\n",
    "i_am.append('Ігор')\n",
    "print(id(i_am))"
   ]
  },
  {
   "cell_type": "code",
   "execution_count": 5,
   "id": "7161a16e",
   "metadata": {},
   "outputs": [
    {
     "name": "stdout",
     "output_type": "stream",
     "text": [
      "['Ігор', 'Бердник', 'Бердник', 'Бердник', 'Бердник'] 2222403196032\n"
     ]
    }
   ],
   "source": [
    "i_am.append('Бердник')\n",
    "print(i_am, id(i_am))"
   ]
  },
  {
   "cell_type": "markdown",
   "id": "be2e6f21",
   "metadata": {},
   "source": [
    "## Завданяя 2 \"Срізи в списках\" \n"
   ]
  },
  {
   "cell_type": "code",
   "execution_count": 3,
   "id": "fe8cf561",
   "metadata": {},
   "outputs": [
    {
     "name": "stdout",
     "output_type": "stream",
     "text": [
      "[1, 2, 3, 4, 5]\n",
      "[5, 6, 7, 8, 9, 10]\n",
      "2\n",
      "4\n",
      "6\n",
      "8\n",
      "10\n"
     ]
    }
   ],
   "source": [
    "my_list = [1, 2, 3, 4, 5, 6, 7, 8, 9, 10]\n",
    "print(my_list[:5])\n",
    "print(my_list[-6:])\n",
    "for num in my_list:\n",
    "    if num % 2 == 0:\n",
    "        print(num)"
   ]
  },
  {
   "cell_type": "code",
   "execution_count": 7,
   "id": "8874e320",
   "metadata": {},
   "outputs": [
    {
     "name": "stdout",
     "output_type": "stream",
     "text": [
      "[[1, 2, 3], [42, 5, 6], [7, 8, 9]]\n"
     ]
    }
   ],
   "source": [
    "my_list = [[1, 2, 3], [4, 5, 6], [7, 8, 9]]\n",
    "my_list[1][0] = 42\n",
    "print(my_list)"
   ]
  },
  {
   "cell_type": "code",
   "execution_count": 8,
   "id": "b0ea58ad",
   "metadata": {},
   "outputs": [
    {
     "name": "stdout",
     "output_type": "stream",
     "text": [
      "[[1, 2, 5], [42, 3, 6], [7, 8, 9]]\n"
     ]
    }
   ],
   "source": [
    "my_list[0][2], my_list[1][1] = my_list[1][1], my_list[0][2]\n",
    "print(my_list)"
   ]
  },
  {
   "cell_type": "markdown",
   "id": "b347a74a",
   "metadata": {},
   "source": [
    "# Завдання №3 \"Операції з файлами\"\n"
   ]
  },
  {
   "cell_type": "markdown",
   "id": "43c3cb88",
   "metadata": {},
   "source": [
    "## Завдання 1 \"Запис в файл\" "
   ]
  },
  {
   "cell_type": "code",
   "execution_count": 14,
   "id": "86b1211a",
   "metadata": {},
   "outputs": [],
   "source": [
    "file = open('my_file.txt', 'w+')\n",
    "for i in range(1, 11):\n",
    "    file.write(f\"{i}-й рядок\\n\")\n",
    "file.close()"
   ]
  },
  {
   "cell_type": "markdown",
   "id": "ed4aea8b",
   "metadata": {},
   "source": [
    "## Завдання 2 \"Читання з файла\"  "
   ]
  },
  {
   "cell_type": "code",
   "execution_count": 15,
   "id": "3a9f4e17",
   "metadata": {},
   "outputs": [
    {
     "name": "stdout",
     "output_type": "stream",
     "text": [
      "1-й рядок\n",
      "2-й рядок\n",
      "3-й рядок\n",
      "4-й рядок\n",
      "5-й рядок\n"
     ]
    }
   ],
   "source": [
    "file = open('my_file.txt', 'r')\n",
    "for i in range(5):\n",
    "        print(file.readline().strip())\n",
    "file.close()"
   ]
  },
  {
   "cell_type": "markdown",
   "id": "f4e4ff18",
   "metadata": {},
   "source": [
    "## Завдання 2 \"Контекстні менеджери\"  "
   ]
  },
  {
   "cell_type": "code",
   "execution_count": null,
   "id": "adb845d4",
   "metadata": {},
   "outputs": [],
   "source": [
    "with open('my_file.txt', 'r') as file:\n",
    "    for i in range(5):\n",
    "        print(file.readline().strip())"
   ]
  }
 ],
 "metadata": {
  "kernelspec": {
   "display_name": "Python 3 (ipykernel)",
   "language": "python",
   "name": "python3"
  },
  "language_info": {
   "codemirror_mode": {
    "name": "ipython",
    "version": 3
   },
   "file_extension": ".py",
   "mimetype": "text/x-python",
   "name": "python",
   "nbconvert_exporter": "python",
   "pygments_lexer": "ipython3",
   "version": "3.9.13"
  },
  "toc": {
   "base_numbering": 1,
   "nav_menu": {},
   "number_sections": true,
   "sideBar": true,
   "skip_h1_title": false,
   "title_cell": "Table of Contents",
   "title_sidebar": "Contents",
   "toc_cell": false,
   "toc_position": {},
   "toc_section_display": true,
   "toc_window_display": false
  },
  "varInspector": {
   "cols": {
    "lenName": 16,
    "lenType": 16,
    "lenVar": 40
   },
   "kernels_config": {
    "python": {
     "delete_cmd_postfix": "",
     "delete_cmd_prefix": "del ",
     "library": "var_list.py",
     "varRefreshCmd": "print(var_dic_list())"
    },
    "r": {
     "delete_cmd_postfix": ") ",
     "delete_cmd_prefix": "rm(",
     "library": "var_list.r",
     "varRefreshCmd": "cat(var_dic_list()) "
    }
   },
   "types_to_exclude": [
    "module",
    "function",
    "builtin_function_or_method",
    "instance",
    "_Feature"
   ],
   "window_display": false
  }
 },
 "nbformat": 4,
 "nbformat_minor": 5
}
