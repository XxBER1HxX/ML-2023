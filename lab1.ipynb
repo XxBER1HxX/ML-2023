{
 "cells": [
  {
   "cell_type": "code",
   "execution_count": 1,
   "id": "3a6e7be9",
   "metadata": {},
   "outputs": [],
   "source": [
    "import os"
   ]
  },
  {
   "cell_type": "code",
   "execution_count": 2,
   "id": "e5373f9c",
   "metadata": {
    "scrolled": false
   },
   "outputs": [
    {
     "name": "stdout",
     "output_type": "stream",
     "text": [
      "Username: ihor-pc\\ihor\n"
     ]
    }
   ],
   "source": [
    "import subprocess\n",
    "\n",
    "result = subprocess.run(['whoami'], capture_output=True, text=True)\n",
    "username = result.stdout.strip()\n",
    "\n",
    "print(f\"Username: {username}\")"
   ]
  },
  {
   "cell_type": "code",
   "execution_count": 3,
   "id": "66818b88",
   "metadata": {},
   "outputs": [],
   "source": [
    "login = \"ваш_логін\"\n",
    "filename = f\"{login}.txt\"\n",
    "\n",
    "with open(filename, \"w\") as f:\n",
    "    pass"
   ]
  },
  {
   "cell_type": "code",
   "execution_count": 4,
   "id": "f71540c6",
   "metadata": {},
   "outputs": [
    {
     "name": "stdout",
     "output_type": "stream",
     "text": [
      "Бердник - є студентом 4-1 групи ФІТ\n"
     ]
    }
   ],
   "source": [
    "surname = \"Бердник\"\n",
    "group_number = \"4-1\"\n",
    "\n",
    "with open(filename, \"w\") as f:\n",
    "    f.write(f\"{surname} - є студентом {group_number} групи ФІТ\")\n",
    "\n",
    "with open(filename, \"r\") as f:\n",
    "    contents = f.read()\n",
    "    print(contents)"
   ]
  },
  {
   "cell_type": "code",
   "execution_count": 5,
   "id": "3e6eae2b",
   "metadata": {},
   "outputs": [
    {
     "name": "stdout",
     "output_type": "stream",
     "text": [
      "Вміст робочої папки 'D:\\ML':\n",
      ".git\n",
      ".idea\n",
      ".ipynb_checkpoints\n",
      "da.ipynb\n",
      "main.py\n",
      "Untitled.ipynb\n",
      "venv\n",
      "ваш_логін.txt\n"
     ]
    }
   ],
   "source": [
    "dir_path = os.getcwd()\n",
    "dir_content = os.listdir(dir_path)\n",
    "\n",
    "print(f\"Вміст робочої папки '{dir_path}':\")\n",
    "for item in dir_content:\n",
    "    print(item)"
   ]
  },
  {
   "cell_type": "code",
   "execution_count": 6,
   "id": "fc7a4d77",
   "metadata": {},
   "outputs": [
    {
     "name": "stdout",
     "output_type": "stream",
     "text": [
      "   1:\n",
      "import os\n",
      "os.environ['comspec']='powershell.exe'\n",
      "   2:\n",
      "import subprocess\n",
      "\n",
      "result = subprocess.run(['whoami'], capture_output=True, text=True)\n",
      "username = result.stdout.strip()\n",
      "\n",
      "print(f\"Username: {username}\")\n",
      "   3:\n",
      "login = \"ваш_логін\"\n",
      "filename = f\"{login}.txt\"\n",
      "\n",
      "with open(filename, \"w\") as f:\n",
      "    pass\n",
      "   4:\n",
      "surname = \"Бердник\"\n",
      "group_number = \"4-1\"\n",
      "\n",
      "with open(filename, \"w\") as f:\n",
      "    f.write(f\"{surname} - є студентом {group_number} групи ФІТ\")\n",
      "\n",
      "with open(filename, \"r\") as f:\n",
      "    contents = f.read()\n",
      "    print(contents)\n",
      "   5:\n",
      "dir_path = os.getcwd()\n",
      "dir_content = os.listdir(dir_path)\n",
      "\n",
      "print(f\"Вміст робочої папки '{dir_path}':\")\n",
      "for item in dir_content:\n",
      "    print(item)\n"
     ]
    }
   ],
   "source": [
    "%history -n 1-5\n"
   ]
  },
  {
   "cell_type": "code",
   "execution_count": 7,
   "id": "ca19397c",
   "metadata": {},
   "outputs": [
    {
     "ename": "SyntaxError",
     "evalue": "invalid syntax (1058747500.py, line 5)",
     "output_type": "error",
     "traceback": [
      "\u001b[1;36m  File \u001b[1;32m\"C:\\Users\\IHOR\\AppData\\Local\\Temp\\ipykernel_13324\\1058747500.py\"\u001b[1;36m, line \u001b[1;32m5\u001b[0m\n\u001b[1;33m    [![Documentation Status](https://readthedocs.org/projects/jupyter-notebook/badge/?version=latest)](https://jupyter-notebook.readthedocs.io/en/latest/?badge=latest)\u001b[0m\n\u001b[1;37m     ^\u001b[0m\n\u001b[1;31mSyntaxError\u001b[0m\u001b[1;31m:\u001b[0m invalid syntax\n"
     ]
    }
   ],
   "source": [
    "# %load https://raw.githubusercontent.com/jupyter/notebook/master/README.md\n",
    "# Jupyter Notebook\n",
    "\n",
    "![Github Actions Status](https://github.com/jupyter/notebook/workflows/Build/badge.svg)\n",
    "[![Documentation Status](https://readthedocs.org/projects/jupyter-notebook/badge/?version=latest)](https://jupyter-notebook.readthedocs.io/en/latest/?badge=latest)\n",
    "[![Binder](https://mybinder.org/badge_logo.svg)](https://mybinder.org/v2/gh/jupyter/notebook/main?urlpath=tree)\n",
    "[![codecov](https://codecov.io/gh/jupyter/notebook/branch/main/graph/badge.svg)](https://codecov.io/gh/jupyter/notebook)\n",
    "[![Gitpod](https://img.shields.io/badge/gitpod_editor-open-blue.svg)](https://gitpod.io/#https://github.com/jupyter/notebook)\n",
    "\n",
    "The Jupyter notebook is a web-based notebook environment for interactive\n",
    "computing.\n",
    "\n",
    "![Jupyter notebook example](docs/resources/running_code_med.png 'Jupyter notebook example')\n",
    "\n",
    "## Maintained versions\n",
    "\n",
    "We maintain the **two most recently released major versions of Jupyter Notebook**, Notebook v5 and Classic Notebook v6. After Notebook v7.0 is released, we will no longer maintain Notebook v5. All Notebook v5 users are strongly advised to upgrade to Classic Notebook v6 as soon as possible.\n",
    "\n",
    "The Jupyter Notebook project is currently undertaking a transition to a more modern code base built from the ground-up using JupyterLab components and extensions.\n",
    "\n",
    "There is new stream of work which was submitted and then accepted as a Jupyter Enhancement Proposal (JEP) as part of the next version (v7): https://jupyter.org/enhancement-proposals/79-notebook-v7/notebook-v7.html\n",
    "\n",
    "There is also a plan to continue maintaining Notebook v6 with bug and security fixes only, to ease the transition to Notebook v7: https://github.com/jupyter/notebook-team-compass/issues/5#issuecomment-1085254000\n",
    "\n",
    "### Notebook v7\n",
    "\n",
    "The next major version of Notebook will be based on:\n",
    "\n",
    "- JupyterLab components for the frontend\n",
    "- Jupyter Server for the Python server\n",
    "\n",
    "This represents a significant change to the `jupyter/notebook` code base.\n",
    "\n",
    "To learn more about Notebook v7: https://jupyter.org/enhancement-proposals/79-notebook-v7/notebook-v7.html\n",
    "\n",
    "### Classic Notebook v6\n",
    "\n",
    "Maintainance and security-related issues are now being addressed in the [`6.4.x`](https://github.com/jupyter/notebook/tree/6.4.x) branch.\n",
    "\n",
    "A `6.5.x` branch will be soon created and will depend on [`nbclassic`](https://github.com/jupyter/nbclassic) for the HTML/JavaScript/CSS assets.\n",
    "\n",
    "New features and continuous improvement is now focused on Notebook v7 (see section above).\n",
    "\n",
    "If you have an open pull request with a new feature or if you were planning to open one, we encourage switching over to the Jupyter Server and JupyterLab architecture, and distribute it as a server extension and / or JupyterLab prebuilt extension. That way your new feature will also be compatible with the new Notebook v7.\n",
    "\n",
    "## Jupyter notebook, the language-agnostic evolution of IPython notebook\n",
    "\n",
    "Jupyter notebook is a language-agnostic HTML notebook application for\n",
    "Project Jupyter. In 2015, Jupyter notebook was released as a part of\n",
    "The Big Split™ of the IPython codebase. IPython 3 was the last major monolithic\n",
    "release containing both language-agnostic code, such as the _IPython notebook_,\n",
    "and language specific code, such as the _IPython kernel for Python_. As\n",
    "computing spans across many languages, Project Jupyter will continue to develop the\n",
    "language-agnostic **Jupyter notebook** in this repo and with the help of the\n",
    "community develop language specific kernels which are found in their own\n",
    "discrete repos.\n",
    "\n",
    "- [The Big Split™ announcement](https://blog.jupyter.org/the-big-split-9d7b88a031a7)\n",
    "- [Jupyter Ascending blog post](https://blog.jupyter.org/jupyter-ascending-1bf5b362d97e)\n",
    "\n",
    "## Installation\n",
    "\n",
    "You can find the installation documentation for the\n",
    "[Jupyter platform, on ReadTheDocs](https://jupyter.readthedocs.io/en/latest/install.html).\n",
    "The documentation for advanced usage of Jupyter notebook can be found\n",
    "[here](https://jupyter-notebook.readthedocs.io/en/latest/).\n",
    "\n",
    "For a local installation, make sure you have\n",
    "[pip installed](https://pip.readthedocs.io/en/stable/installing/) and run:\n",
    "\n",
    "```bash\n",
    "pip install notebook\n",
    "```\n",
    "\n",
    "## Usage - Running Jupyter notebook\n",
    "\n",
    "### Running in a local installation\n",
    "\n",
    "Launch with:\n",
    "\n",
    "```bash\n",
    "jupyter notebook\n",
    "```\n",
    "\n",
    "### Running in a remote installation\n",
    "\n",
    "You need some configuration before starting Jupyter notebook remotely. See [Running a notebook server](https://jupyter-notebook.readthedocs.io/en/stable/public_server.html).\n",
    "\n",
    "## Development Installation\n",
    "\n",
    "See [`CONTRIBUTING.md`](CONTRIBUTING.md) for how to set up a local development installation.\n",
    "\n",
    "## Contributing\n",
    "\n",
    "If you are interested in contributing to the project, see [`CONTRIBUTING.md`](CONTRIBUTING.md).\n",
    "\n",
    "## Community Guidelines and Code of Conduct\n",
    "\n",
    "This repository is a Jupyter project and follows the Jupyter\n",
    "[Community Guides and Code of Conduct](https://jupyter.readthedocs.io/en/latest/community/content-community.html).\n",
    "\n",
    "## Resources\n",
    "\n",
    "- [Project Jupyter website](https://jupyter.org)\n",
    "- [Online Demo at jupyter.org/try](https://jupyter.org/try)\n",
    "- [Documentation for Jupyter notebook](https://jupyter-notebook.readthedocs.io/en/latest/)\n",
    "- [Korean Version of Installation](https://github.com/ChungJooHo/Jupyter_Kor_doc/)\n",
    "- [Documentation for Project Jupyter](https://jupyter.readthedocs.io/en/latest/index.html) \\[[PDF](https://media.readthedocs.org/pdf/jupyter/latest/jupyter.pdf)\\]\n",
    "- [Issues](https://github.com/jupyter/notebook/issues)\n",
    "- [Technical support - Jupyter Google Group](https://discourse.jupyter.org/)\n",
    "\n",
    "## About the Jupyter Development Team\n",
    "\n",
    "The Jupyter Development Team is the set of all contributors to the Jupyter project.\n",
    "This includes all of the Jupyter subprojects.\n",
    "\n",
    "The core team that coordinates development on GitHub can be found here:\n",
    "https://github.com/jupyter/.\n",
    "\n",
    "## Our Copyright Policy\n",
    "\n",
    "Jupyter uses a shared copyright model. Each contributor maintains copyright\n",
    "over their contributions to Jupyter. But, it is important to note that these\n",
    "contributions are typically only changes to the repositories. Thus, the Jupyter\n",
    "source code, in its entirety is not the copyright of any single person or\n",
    "institution. Instead, it is the collective copyright of the entire Jupyter\n",
    "Development Team. If individual contributors want to maintain a record of what\n",
    "changes/contributions they have specific copyright on, they should indicate\n",
    "their copyright in the commit message of the change, when they commit the\n",
    "change to one of the Jupyter repositories.\n",
    "\n",
    "With this in mind, the following banner should be used in any source code file\n",
    "to indicate the copyright and license terms:\n",
    "\n",
    "```\n",
    "# Copyright (c) Jupyter Development Team.\n",
    "# Distributed under the terms of the Modified BSD License.\n",
    "```\n"
   ]
  },
  {
   "cell_type": "code",
   "execution_count": 8,
   "id": "d423aee1",
   "metadata": {},
   "outputs": [
    {
     "name": "stdout",
     "output_type": "stream",
     "text": [
      "60 µs ± 4.74 µs per loop (mean ± std. dev. of 7 runs, 10000 loops each)\n"
     ]
    }
   ],
   "source": [
    "%timeit u = 10000**1000"
   ]
  },
  {
   "cell_type": "code",
   "execution_count": 1,
   "id": "318fc65b",
   "metadata": {
    "scrolled": true
   },
   "outputs": [
    {
     "name": "stdout",
     "output_type": "stream",
     "text": [
      "Requirement already satisfied: jupyter_contrib_nbextensions in d:\\anaconda\\lib\\site-packages (0.7.0)\n",
      "Requirement already satisfied: lxml in d:\\anaconda\\lib\\site-packages (from jupyter_contrib_nbextensions) (4.9.1)\n",
      "Requirement already satisfied: jupyter-contrib-core>=0.3.3 in d:\\anaconda\\lib\\site-packages (from jupyter_contrib_nbextensions) (0.4.2)\n",
      "Requirement already satisfied: notebook>=6.0 in d:\\anaconda\\lib\\site-packages (from jupyter_contrib_nbextensions) (6.4.12)\n",
      "Requirement already satisfied: jupyter-core in d:\\anaconda\\lib\\site-packages (from jupyter_contrib_nbextensions) (4.11.1)\n",
      "Requirement already satisfied: traitlets>=4.1 in d:\\anaconda\\lib\\site-packages (from jupyter_contrib_nbextensions) (5.1.1)\n",
      "Requirement already satisfied: jupyter-highlight-selected-word>=0.1.1 in d:\\anaconda\\lib\\site-packages (from jupyter_contrib_nbextensions) (0.2.0)\n",
      "Requirement already satisfied: nbconvert>=6.0 in d:\\anaconda\\lib\\site-packages (from jupyter_contrib_nbextensions) (6.4.4)\n",
      "Requirement already satisfied: jupyter-nbextensions-configurator>=0.4.0 in d:\\anaconda\\lib\\site-packages (from jupyter_contrib_nbextensions) (0.6.1)\n",
      "Requirement already satisfied: tornado in d:\\anaconda\\lib\\site-packages (from jupyter_contrib_nbextensions) (6.1)\n",
      "Requirement already satisfied: ipython-genutils in d:\\anaconda\\lib\\site-packages (from jupyter_contrib_nbextensions) (0.2.0)\n",
      "Requirement already satisfied: setuptools in d:\\anaconda\\lib\\site-packages (from jupyter-contrib-core>=0.3.3->jupyter_contrib_nbextensions) (63.4.1)\n",
      "Requirement already satisfied: pyyaml in d:\\anaconda\\lib\\site-packages (from jupyter-nbextensions-configurator>=0.4.0->jupyter_contrib_nbextensions) (6.0)\n",
      "Requirement already satisfied: pandocfilters>=1.4.1 in d:\\anaconda\\lib\\site-packages (from nbconvert>=6.0->jupyter_contrib_nbextensions) (1.5.0)\n",
      "Requirement already satisfied: jupyterlab-pygments in d:\\anaconda\\lib\\site-packages (from nbconvert>=6.0->jupyter_contrib_nbextensions) (0.1.2)\n",
      "Requirement already satisfied: bleach in d:\\anaconda\\lib\\site-packages (from nbconvert>=6.0->jupyter_contrib_nbextensions) (4.1.0)\n",
      "Requirement already satisfied: beautifulsoup4 in d:\\anaconda\\lib\\site-packages (from nbconvert>=6.0->jupyter_contrib_nbextensions) (4.11.1)\n",
      "Requirement already satisfied: jinja2>=2.4 in d:\\anaconda\\lib\\site-packages (from nbconvert>=6.0->jupyter_contrib_nbextensions) (2.11.3)\n",
      "Requirement already satisfied: nbformat>=4.4 in d:\\anaconda\\lib\\site-packages (from nbconvert>=6.0->jupyter_contrib_nbextensions) (5.5.0)\n",
      "Requirement already satisfied: testpath in d:\\anaconda\\lib\\site-packages (from nbconvert>=6.0->jupyter_contrib_nbextensions) (0.6.0)\n",
      "Requirement already satisfied: pygments>=2.4.1 in d:\\anaconda\\lib\\site-packages (from nbconvert>=6.0->jupyter_contrib_nbextensions) (2.11.2)\n",
      "Requirement already satisfied: mistune<2,>=0.8.1 in d:\\anaconda\\lib\\site-packages (from nbconvert>=6.0->jupyter_contrib_nbextensions) (0.8.4)\n",
      "Requirement already satisfied: entrypoints>=0.2.2 in d:\\anaconda\\lib\\site-packages (from nbconvert>=6.0->jupyter_contrib_nbextensions) (0.4)\n",
      "Requirement already satisfied: defusedxml in d:\\anaconda\\lib\\site-packages (from nbconvert>=6.0->jupyter_contrib_nbextensions) (0.7.1)\n",
      "Requirement already satisfied: nbclient<0.6.0,>=0.5.0 in d:\\anaconda\\lib\\site-packages (from nbconvert>=6.0->jupyter_contrib_nbextensions) (0.5.13)\n",
      "Requirement already satisfied: prometheus-client in d:\\anaconda\\lib\\site-packages (from notebook>=6.0->jupyter_contrib_nbextensions) (0.14.1)\n",
      "Requirement already satisfied: terminado>=0.8.3 in d:\\anaconda\\lib\\site-packages (from notebook>=6.0->jupyter_contrib_nbextensions) (0.13.1)\n",
      "Requirement already satisfied: pyzmq>=17 in d:\\anaconda\\lib\\site-packages (from notebook>=6.0->jupyter_contrib_nbextensions) (23.2.0)\n",
      "Requirement already satisfied: argon2-cffi in d:\\anaconda\\lib\\site-packages (from notebook>=6.0->jupyter_contrib_nbextensions) (21.3.0)\n",
      "Requirement already satisfied: ipykernel in d:\\anaconda\\lib\\site-packages (from notebook>=6.0->jupyter_contrib_nbextensions) (6.15.2)\n",
      "Requirement already satisfied: Send2Trash>=1.8.0 in d:\\anaconda\\lib\\site-packages (from notebook>=6.0->jupyter_contrib_nbextensions) (1.8.0)\n",
      "Requirement already satisfied: nest-asyncio>=1.5 in d:\\anaconda\\lib\\site-packages (from notebook>=6.0->jupyter_contrib_nbextensions) (1.5.5)\n",
      "Requirement already satisfied: jupyter-client>=5.3.4 in d:\\anaconda\\lib\\site-packages (from notebook>=6.0->jupyter_contrib_nbextensions) (7.3.4)\n",
      "Requirement already satisfied: pywin32>=1.0 in d:\\anaconda\\lib\\site-packages (from jupyter-core->jupyter_contrib_nbextensions) (302)\n",
      "Requirement already satisfied: MarkupSafe>=0.23 in d:\\anaconda\\lib\\site-packages (from jinja2>=2.4->nbconvert>=6.0->jupyter_contrib_nbextensions) (2.0.1)\n",
      "Requirement already satisfied: python-dateutil>=2.8.2 in d:\\anaconda\\lib\\site-packages (from jupyter-client>=5.3.4->notebook>=6.0->jupyter_contrib_nbextensions) (2.8.2)\n",
      "Requirement already satisfied: fastjsonschema in d:\\anaconda\\lib\\site-packages (from nbformat>=4.4->nbconvert>=6.0->jupyter_contrib_nbextensions) (2.16.2)\n",
      "Requirement already satisfied: jsonschema>=2.6 in d:\\anaconda\\lib\\site-packages (from nbformat>=4.4->nbconvert>=6.0->jupyter_contrib_nbextensions) (4.16.0)\n",
      "Requirement already satisfied: pywinpty>=1.1.0 in d:\\anaconda\\lib\\site-packages (from terminado>=0.8.3->notebook>=6.0->jupyter_contrib_nbextensions) (2.0.2)\n",
      "Requirement already satisfied: argon2-cffi-bindings in d:\\anaconda\\lib\\site-packages (from argon2-cffi->notebook>=6.0->jupyter_contrib_nbextensions) (21.2.0)\n",
      "Requirement already satisfied: soupsieve>1.2 in d:\\anaconda\\lib\\site-packages (from beautifulsoup4->nbconvert>=6.0->jupyter_contrib_nbextensions) (2.3.1)\n",
      "Requirement already satisfied: packaging in d:\\anaconda\\lib\\site-packages (from bleach->nbconvert>=6.0->jupyter_contrib_nbextensions) (21.3)\n",
      "Requirement already satisfied: six>=1.9.0 in d:\\anaconda\\lib\\site-packages (from bleach->nbconvert>=6.0->jupyter_contrib_nbextensions) (1.16.0)\n",
      "Requirement already satisfied: webencodings in d:\\anaconda\\lib\\site-packages (from bleach->nbconvert>=6.0->jupyter_contrib_nbextensions) (0.5.1)\n",
      "Requirement already satisfied: debugpy>=1.0 in d:\\anaconda\\lib\\site-packages (from ipykernel->notebook>=6.0->jupyter_contrib_nbextensions) (1.5.1)\n",
      "Requirement already satisfied: psutil in d:\\anaconda\\lib\\site-packages (from ipykernel->notebook>=6.0->jupyter_contrib_nbextensions) (5.9.0)\n",
      "Requirement already satisfied: ipython>=7.23.1 in d:\\anaconda\\lib\\site-packages (from ipykernel->notebook>=6.0->jupyter_contrib_nbextensions) (7.31.1)\n",
      "Requirement already satisfied: matplotlib-inline>=0.1 in d:\\anaconda\\lib\\site-packages (from ipykernel->notebook>=6.0->jupyter_contrib_nbextensions) (0.1.6)\n",
      "Requirement already satisfied: jedi>=0.16 in d:\\anaconda\\lib\\site-packages (from ipython>=7.23.1->ipykernel->notebook>=6.0->jupyter_contrib_nbextensions) (0.18.1)\n",
      "Requirement already satisfied: backcall in d:\\anaconda\\lib\\site-packages (from ipython>=7.23.1->ipykernel->notebook>=6.0->jupyter_contrib_nbextensions) (0.2.0)\n",
      "Requirement already satisfied: colorama in d:\\anaconda\\lib\\site-packages (from ipython>=7.23.1->ipykernel->notebook>=6.0->jupyter_contrib_nbextensions) (0.4.5)\n",
      "Requirement already satisfied: decorator in d:\\anaconda\\lib\\site-packages (from ipython>=7.23.1->ipykernel->notebook>=6.0->jupyter_contrib_nbextensions) (5.1.1)\n",
      "Requirement already satisfied: pickleshare in d:\\anaconda\\lib\\site-packages (from ipython>=7.23.1->ipykernel->notebook>=6.0->jupyter_contrib_nbextensions) (0.7.5)\n",
      "Requirement already satisfied: prompt-toolkit!=3.0.0,!=3.0.1,<3.1.0,>=2.0.0 in d:\\anaconda\\lib\\site-packages (from ipython>=7.23.1->ipykernel->notebook>=6.0->jupyter_contrib_nbextensions) (3.0.20)\n",
      "Requirement already satisfied: attrs>=17.4.0 in d:\\anaconda\\lib\\site-packages (from jsonschema>=2.6->nbformat>=4.4->nbconvert>=6.0->jupyter_contrib_nbextensions) (21.4.0)\n",
      "Requirement already satisfied: pyrsistent!=0.17.0,!=0.17.1,!=0.17.2,>=0.14.0 in d:\\anaconda\\lib\\site-packages (from jsonschema>=2.6->nbformat>=4.4->nbconvert>=6.0->jupyter_contrib_nbextensions) (0.18.0)\n",
      "Requirement already satisfied: cffi>=1.0.1 in d:\\anaconda\\lib\\site-packages (from argon2-cffi-bindings->argon2-cffi->notebook>=6.0->jupyter_contrib_nbextensions) (1.15.1)\n",
      "Requirement already satisfied: pyparsing!=3.0.5,>=2.0.2 in d:\\anaconda\\lib\\site-packages (from packaging->bleach->nbconvert>=6.0->jupyter_contrib_nbextensions) (3.0.9)\n",
      "Requirement already satisfied: pycparser in d:\\anaconda\\lib\\site-packages (from cffi>=1.0.1->argon2-cffi-bindings->argon2-cffi->notebook>=6.0->jupyter_contrib_nbextensions) (2.21)\n",
      "Requirement already satisfied: parso<0.9.0,>=0.8.0 in d:\\anaconda\\lib\\site-packages (from jedi>=0.16->ipython>=7.23.1->ipykernel->notebook>=6.0->jupyter_contrib_nbextensions) (0.8.3)\n",
      "Requirement already satisfied: wcwidth in d:\\anaconda\\lib\\site-packages (from prompt-toolkit!=3.0.0,!=3.0.1,<3.1.0,>=2.0.0->ipython>=7.23.1->ipykernel->notebook>=6.0->jupyter_contrib_nbextensions) (0.2.5)\n",
      "Note: you may need to restart the kernel to use updated packages.\n"
     ]
    }
   ],
   "source": [
    "#!pip install jupyter_contrib_nbextensions ; jupyter contrib nbextension install --user ;  jupyter nbextension enable collapsible_headings/main"
   ]
  },
  {
   "cell_type": "code",
   "execution_count": null,
   "id": "e4616c25",
   "metadata": {},
   "outputs": [],
   "source": []
  }
 ],
 "metadata": {
  "kernelspec": {
   "display_name": "Python 3 (ipykernel)",
   "language": "python",
   "name": "python3"
  },
  "language_info": {
   "codemirror_mode": {
    "name": "ipython",
    "version": 3
   },
   "file_extension": ".py",
   "mimetype": "text/x-python",
   "name": "python",
   "nbconvert_exporter": "python",
   "pygments_lexer": "ipython3",
   "version": "3.9.13"
  },
  "varInspector": {
   "cols": {
    "lenName": 16,
    "lenType": 16,
    "lenVar": 40
   },
   "kernels_config": {
    "python": {
     "delete_cmd_postfix": "",
     "delete_cmd_prefix": "del ",
     "library": "var_list.py",
     "varRefreshCmd": "print(var_dic_list())"
    },
    "r": {
     "delete_cmd_postfix": ") ",
     "delete_cmd_prefix": "rm(",
     "library": "var_list.r",
     "varRefreshCmd": "cat(var_dic_list()) "
    }
   },
   "types_to_exclude": [
    "module",
    "function",
    "builtin_function_or_method",
    "instance",
    "_Feature"
   ],
   "window_display": false
  }
 },
 "nbformat": 4,
 "nbformat_minor": 5
}
